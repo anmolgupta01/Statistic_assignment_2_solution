{
 "cells": [
  {
   "cell_type": "markdown",
   "id": "5497ffbf",
   "metadata": {},
   "source": [
    "# Q1. What are the three measures of central tendency?"
   ]
  },
  {
   "cell_type": "markdown",
   "id": "fc419f94",
   "metadata": {},
   "source": [
    "The three measures of central tendency are:\n",
    "\n",
    "Mean: The mean, also known as the average, is calculated by summing up all the values in a data set and then dividing by the number of values. It represents the \"typical\" value in a data set.\n",
    "\n",
    "Median: The median is the middle value when a data set is arranged in ascending or descending order. If there is an even number of data points, the median is the average of the two middle values. The median is less affected by extreme outliers compared to the mean.\n",
    "\n",
    "Mode: The mode is the value that appears most frequently in a data set. A data set can have one mode (unimodal), more than one mode (multimodal), or no mode at all if all values are unique. The mode can be useful for identifying the most common value or category in a data set, especially in categorical data."
   ]
  },
  {
   "cell_type": "markdown",
   "id": "177d0637",
   "metadata": {},
   "source": [
    "# Q2. What is the difference between the mean, median, and mode? How are they used to measure the central tendency of a dataset?"
   ]
  },
  {
   "cell_type": "markdown",
   "id": "6c8334ff",
   "metadata": {},
   "source": [
    "The mean, median, and mode are three different measures of central tendency, each with its own characteristics and use in describing the central or typical values within a dataset. Here's how they differ and how they are used:\n",
    "\n",
    "Mean:\n",
    "\n",
    "The mean is the average of all the values in a dataset.\n",
    "It is calculated by summing up all the values and then dividing by the total number of values.\n",
    "The mean is sensitive to outliers or extreme values. A single outlier can significantly affect the mean, pulling it in the direction of the outlier.\n",
    "The mean is most appropriate for datasets with a roughly symmetrical distribution, where values are evenly spread around a central point.\n",
    "Use: The mean is commonly used when you want to find the \"average\" value in a dataset, and when the data follows a normal distribution or is approximately symmetric.\n",
    "\n",
    "Median:\n",
    "\n",
    "The median is the middle value in a dataset when the data is ordered in ascending or descending order. If there is an even number of values, the median is the average of the two middle values.\n",
    "Unlike the mean, the median is not affected by extreme outliers. It is robust to extreme values because it depends only on the middle values in the ordered dataset.\n",
    "The median is particularly useful when dealing with skewed data or datasets with outliers.\n",
    "Use: The median is often used when you want to find a central value that is not influenced by extreme values. It's useful for understanding the \"middle\" of a dataset.\n",
    "\n",
    "Mode:\n",
    "\n",
    "The mode is the value that appears most frequently in a dataset.\n",
    "A dataset can have one mode (unimodal), more than one mode (multimodal), or no mode at all if all values are unique.\n",
    "The mode is primarily used with categorical or discrete data, such as categories or labels, rather than continuous numerical data.\n",
    "Use: The mode is used to identify the most common or frequently occurring value or category in a dataset. It's useful when you want to know what value is most prevalent in a set of data."
   ]
  },
  {
   "cell_type": "markdown",
   "id": "df65e546",
   "metadata": {},
   "source": [
    "# Q3. Measure the three measures of central tendency for the given height data:\n",
    "\n",
    " [178,177,176,177,178.2,178,175,179,180,175,178.9,176.2,177,172.5,178,176.5]"
   ]
  },
  {
   "cell_type": "code",
   "execution_count": 5,
   "id": "46a505b4",
   "metadata": {},
   "outputs": [],
   "source": [
    "import numpy as np\n",
    "from scipy import stats"
   ]
  },
  {
   "cell_type": "code",
   "execution_count": 6,
   "id": "767355ea",
   "metadata": {},
   "outputs": [],
   "source": [
    "data = [178,177,176,177,178.2,178,175,179,180,175,178.9,176.2,177,172.5,178,176.5]"
   ]
  },
  {
   "cell_type": "code",
   "execution_count": 7,
   "id": "55169b78",
   "metadata": {},
   "outputs": [
    {
     "data": {
      "text/plain": [
       "177.01875"
      ]
     },
     "execution_count": 7,
     "metadata": {},
     "output_type": "execute_result"
    }
   ],
   "source": [
    "np.mean(data)"
   ]
  },
  {
   "cell_type": "code",
   "execution_count": 8,
   "id": "5a5181a5",
   "metadata": {},
   "outputs": [
    {
     "data": {
      "text/plain": [
       "177.0"
      ]
     },
     "execution_count": 8,
     "metadata": {},
     "output_type": "execute_result"
    }
   ],
   "source": [
    "np.median(data)"
   ]
  },
  {
   "cell_type": "code",
   "execution_count": 9,
   "id": "2723a389",
   "metadata": {},
   "outputs": [
    {
     "name": "stderr",
     "output_type": "stream",
     "text": [
      "C:\\Users\\getan\\AppData\\Local\\Temp\\ipykernel_26908\\3267261142.py:1: FutureWarning: Unlike other reduction functions (e.g. `skew`, `kurtosis`), the default behavior of `mode` typically preserves the axis it acts along. In SciPy 1.11.0, this behavior will change: the default value of `keepdims` will become False, the `axis` over which the statistic is taken will be eliminated, and the value None will no longer be accepted. Set `keepdims` to True or False to avoid this warning.\n",
      "  stats.mode(data)\n"
     ]
    },
    {
     "data": {
      "text/plain": [
       "ModeResult(mode=array([177.]), count=array([3]))"
      ]
     },
     "execution_count": 9,
     "metadata": {},
     "output_type": "execute_result"
    }
   ],
   "source": [
    "stats.mode(data)"
   ]
  },
  {
   "cell_type": "markdown",
   "id": "287e8c6c",
   "metadata": {},
   "source": [
    "# Q4. Find the standard deviation for the given data:\n",
    "\n",
    "[178,177,176,177,178.2,178,175,179,180,175,178.9,176.2,177,172.5,178,176.5]"
   ]
  },
  {
   "cell_type": "code",
   "execution_count": 10,
   "id": "4b6ebe61",
   "metadata": {},
   "outputs": [],
   "source": [
    "data = [178,177,176,177,178.2,178,175,179,180,175,178.9,176.2,177,172.5,178,176.5]"
   ]
  },
  {
   "cell_type": "code",
   "execution_count": 11,
   "id": "786b0964",
   "metadata": {},
   "outputs": [
    {
     "data": {
      "text/plain": [
       "1.7885814036548633"
      ]
     },
     "execution_count": 11,
     "metadata": {},
     "output_type": "execute_result"
    }
   ],
   "source": [
    "np.std(data)"
   ]
  },
  {
   "cell_type": "markdown",
   "id": "02bfe182",
   "metadata": {},
   "source": [
    "# Q5. How are measures of dispersion such as range, variance, and standard deviation used to describe the spread of a dataset? Provide an example."
   ]
  },
  {
   "cell_type": "markdown",
   "id": "a92e31db",
   "metadata": {},
   "source": [
    "Measures of dispersion, such as range, variance, and standard deviation, are used to describe how data points in a dataset are spread out or dispersed from the central tendency (mean, median, or mode). They provide valuable information about the variability or spread within a dataset. Here's how each of these measures is used:\n",
    "\n",
    "Range:\n",
    "\n",
    "The range is the simplest measure of dispersion and is calculated as the difference between the maximum and minimum values in a dataset.\n",
    "It gives you a rough idea of the spread of data by indicating the interval within which the data points fall.\n",
    "Example: Consider a dataset of test scores for a class of students: {60, 70, 75, 80, 90}. The range would be calculated as follows:\n",
    "Range = Maximum value - Minimum value\n",
    "Range = 90 - 60 = 30\n",
    "So, the range of the test scores is 30 points, indicating that the scores vary by 30 points from the lowest to the highest.\n",
    "\n",
    "Variance:\n",
    "\n",
    "Variance quantifies how much individual data points deviate from the mean of the dataset. It calculates the average of the squared differences between each data point and the mean.\n",
    "Variance is sensitive to the magnitude of differences, so larger differences have a greater impact.\n",
    "Example: Using the same test scores dataset {60, 70, 75, 80, 90}, the variance is calculated as follows:\n",
    "Step 1: Calculate the mean (average) of the scores.\n",
    "Mean = (60 + 70 + 75 + 80 + 90) / 5 = 75\n",
    "\n",
    "Step 2: Calculate the squared differences from the mean for each data point:\n",
    "(60 - 75)^2 = 225\n",
    "(70 - 75)^2 = 25\n",
    "(75 - 75)^2 = 0\n",
    "(80 - 75)^2 = 25\n",
    "(90 - 75)^2 = 225\n",
    "\n",
    "Step 3: Calculate the variance as the average of these squared differences:\n",
    "Variance = (225 + 25 + 0 + 25 + 225) / 5 = 100\n",
    "\n",
    "So, the variance of the test scores is 100, indicating the average squared deviation of data points from the mean.\n",
    "\n",
    "Standard Deviation:\n",
    "\n",
    "The standard deviation is the square root of the variance. It provides a measure of dispersion in the same units as the original data.\n",
    "It is commonly used because it is more interpretable than the variance, as it gives you a sense of how much individual data points typically deviate from the mean.\n",
    "Example: Using the same dataset, the standard deviation is calculated as the square root of the variance:\n",
    "Standard Deviation = √100 = 10\n",
    "\n",
    "So, the standard deviation of the test scores is 10, indicating that, on average, each score deviates from the mean by about 10 points."
   ]
  },
  {
   "cell_type": "markdown",
   "id": "5fc686a0",
   "metadata": {},
   "source": [
    "# Q6. What is a Venn diagram?\n",
    "\n"
   ]
  },
  {
   "cell_type": "markdown",
   "id": "7ae53eed",
   "metadata": {},
   "source": [
    "A Venn diagram is a visual representation used to illustrate the relationships between sets or groups of items. It consists of overlapping circles, each representing a different set, and the areas of overlap show the elements that belong to multiple sets. Venn diagrams are often used in mathematics, logic, statistics, and various fields to help visualize and analyze data and set relationships.\n",
    "\n",
    "Key features of a Venn diagram include:\n",
    "\n",
    "Circles: Each circle in a Venn diagram represents a specific set or category. The items or elements that belong to that set are placed inside or within the boundary of the circle.\n",
    "\n",
    "Overlapping regions: When two or more circles in a Venn diagram overlap, the areas of overlap represent elements that are common to the corresponding sets. The size and shape of these overlapping regions can vary, depending on the relationships between the sets being represented.\n",
    "\n",
    "Non-overlapping regions: The portions of each circle that do not overlap with any other circle represent elements unique to that particular set.\n",
    "\n",
    "Universal set: In some cases, a rectangle or another shape may enclose all the circles in a Venn diagram. This outer shape represents the universal set, which includes all possible elements relevant to the context.\n",
    "\n",
    "Venn diagrams are useful for various purposes, including:\n",
    "\n",
    "Illustrating set relationships: They show how sets intersect, have common elements, or are disjoint (have no elements in common).\n",
    "\n",
    "Solving logic problems: Venn diagrams are helpful tools for solving problems related to logic, such as determining relationships between different categories or conditions.\n",
    "\n",
    "Analyzing data: Venn diagrams can be used to compare and contrast data subsets, helping to identify commonalities and differences.\n",
    "\n",
    "Visualizing complex information: When dealing with multiple categories or groups, Venn diagrams simplify the representation of their relationships."
   ]
  },
  {
   "cell_type": "markdown",
   "id": "709389e9",
   "metadata": {},
   "source": [
    "# Q7. For the two given sets A = (2,3,4,5,6,7) & B = (0,2,6,8,10). Find:\n",
    "\n",
    "(i) \tA  intersection B\n",
    "\n",
    "(ii)\tA ⋃ B"
   ]
  },
  {
   "cell_type": "code",
   "execution_count": 17,
   "id": "e7e315fc",
   "metadata": {},
   "outputs": [],
   "source": [
    "A = {2,3,4,5,6,7}\n",
    "B = {0,2,6,8,10}"
   ]
  },
  {
   "cell_type": "code",
   "execution_count": 20,
   "id": "1d7d9fac",
   "metadata": {},
   "outputs": [
    {
     "name": "stdout",
     "output_type": "stream",
     "text": [
      "Intersection : {2, 6}\n"
     ]
    }
   ],
   "source": [
    "intersection = A.intersection(B)\n",
    "print(f\"Intersection : {intersection}\")"
   ]
  },
  {
   "cell_type": "code",
   "execution_count": 24,
   "id": "ca56a5e8",
   "metadata": {},
   "outputs": [
    {
     "name": "stdout",
     "output_type": "stream",
     "text": [
      "Union : {0, 2, 3, 4, 5, 6, 7, 8, 10}\n"
     ]
    }
   ],
   "source": [
    "Union = A.union(B)\n",
    "print(f\"Union : {Union}\")"
   ]
  },
  {
   "cell_type": "markdown",
   "id": "99fe8e8e",
   "metadata": {},
   "source": [
    "# Q8. What do you understand about skewness in data?"
   ]
  },
  {
   "cell_type": "markdown",
   "id": "a819ec79",
   "metadata": {},
   "source": [
    "Skewness is a statistical measure that describes the asymmetry or lack of symmetry in the distribution of data. In other words, it indicates whether the data is skewed to the left (negatively skewed), skewed to the right (positively skewed), or roughly symmetric (no skew). Skewness is an important concept in descriptive statistics and data analysis because it provides insights into the shape and characteristics of a dataset's distribution.\n",
    "\n",
    "Here are the key points to understand about skewness in data:\n",
    "\n",
    "# Positively Skewed (Right Skewed):\n",
    "\n",
    "In a positively skewed distribution, the tail on the right side (the larger values) is longer or fatter than the left side (the smaller values).\n",
    "The mean (average) in a positively skewed distribution is typically greater than the median.\n",
    "Examples of positively skewed data include income distributions, where a few individuals have exceptionally high incomes, creating a long right tail.\n",
    "\n",
    "# Negatively Skewed (Left Skewed):\n",
    "\n",
    "In a negatively skewed distribution, the tail on the left side (the smaller values) is longer or fatter than the right side (the larger values).\n",
    "The mean in a negatively skewed distribution is typically less than the median.\n",
    "Examples of negatively skewed data include the age at retirement, where most people retire at a certain age but a few retire later, creating a long left tail.\n",
    "\n",
    "# Symmetric (No Skew):\n",
    "\n",
    "In a symmetric distribution, the data is evenly distributed around the mean, and there is no skew in either direction.\n",
    "The mean and median are approximately equal in a symmetric distribution.\n",
    "Examples of symmetric distributions include a normal distribution (bell-shaped curve) and many naturally occurring phenomena when data is balanced."
   ]
  },
  {
   "cell_type": "markdown",
   "id": "940c7462",
   "metadata": {},
   "source": [
    "# Q9. If a data is right skewed then what will be the position of median with respect to mean?"
   ]
  },
  {
   "cell_type": "markdown",
   "id": "33b99715",
   "metadata": {},
   "source": [
    "In a right-skewed distribution, also known as positively skewed, the tail on the right side (the larger values) is longer or fatter than the left side (the smaller values). In this type of distribution:\n",
    "\n",
    "The Mean (Average) will be Greater than the Median:\n",
    "The mean is calculated by summing up all the values in the dataset and dividing by the number of values.\n",
    "Because of the presence of the long right tail (containing relatively few but extremely high values), the mean will be pulled in the direction of these high values, causing it to be greater than the median.\n",
    "So, in a right-skewed distribution, the position of the median will be to the left of the mean on the number line. The median is a measure of central tendency that is less affected by extreme outliers or skewness, so it tends to be closer to where the majority of the data is concentrated (in the lower range of values) compared to the mean, which is influenced by all values in the dataset, including the extreme ones in the right tail."
   ]
  },
  {
   "cell_type": "markdown",
   "id": "1b47e5a7",
   "metadata": {},
   "source": [
    "# Q10. Explain the difference between covariance and correlation. How are these measures used in statistical analysis?"
   ]
  },
  {
   "cell_type": "markdown",
   "id": "0f4b916b",
   "metadata": {},
   "source": [
    "Covariance and correlation are both measures used in statistics to describe the relationship between two variables, but they have distinct differences in terms of their interpretation and application:\n",
    "\n",
    "# Covariance:\n",
    "\n",
    "Covariance measures the degree to which two variables change together. It indicates whether an increase in one variable corresponds to an increase or decrease in another variable.\n",
    "The formula for the sample covariance between two variables X and Y is:\n",
    "Cov(X, Y) = Σ[(Xᵢ - X̄)(Yᵢ - Ȳ)] / (n - 1)\n",
    "where Xᵢ and Yᵢ are individual data points, X̄ and Ȳ are the means of X and Y, and n is the number of data points.\n",
    "The units of covariance are the product of the units of the two variables. Therefore, the magnitude of covariance depends on the scales of the variables being measured, making it difficult to compare covariances across different datasets.\n",
    "Covariance can be positive (indicating a positive relationship), negative (indicating a negative relationship), or close to zero (indicating little to no relationship).\n",
    "\n",
    "# Correlation:\n",
    "\n",
    "Correlation is a standardized measure that quantifies the strength and direction of the linear relationship between two variables. It provides a value between -1 and 1, where:\n",
    "1 indicates a perfect positive linear relationship.\n",
    "-1 indicates a perfect negative linear relationship.\n",
    "0 indicates no linear relationship.\n",
    "The most commonly used measure of correlation is the Pearson correlation coefficient (r), calculated as:\n",
    "r = Σ[(Xᵢ - X̄)(Yᵢ - Ȳ)] / [√Σ(Xᵢ - X̄)² * Σ(Yᵢ - Ȳ)²]\n",
    "Unlike covariance, correlation is dimensionless and scale-independent. It allows for meaningful comparisons between different datasets and variables.\n",
    "Correlation only measures linear relationships; it may not capture non-linear associations between variables.\n",
    "How they are used in statistical analysis:\n",
    "\n",
    "# Covariance:\n",
    "\n",
    "Covariance is used to understand the direction of the relationship between two variables (positive or negative) and whether changes in one variable tend to correspond with changes in another.\n",
    "It is used in various statistical techniques, including portfolio theory in finance, where it helps analyze the relationships between the returns of different assets.\n",
    "\n",
    "# Correlation:\n",
    "\n",
    "Correlation is widely used to assess the strength and direction of linear relationships between variables.\n",
    "It is used in fields such as economics, social sciences, and data analysis to determine how closely related two variables are. A high absolute correlation coefficient indicates a strong linear relationship.\n",
    "Correlation is valuable for identifying potential predictor variables in regression analysis, as variables with high correlations to the target variable may have predictive power."
   ]
  },
  {
   "cell_type": "markdown",
   "id": "6bc99040",
   "metadata": {},
   "source": [
    "# Q11. What is the formula for calculating the sample mean? Provide an example calculation for a dataset."
   ]
  },
  {
   "cell_type": "markdown",
   "id": "d31128d6",
   "metadata": {},
   "source": [
    "The formula for calculating the sample mean (average) of a dataset is as follows:\n",
    "\n",
    "Sample Mean (X̄) = ΣX / n\n",
    "\n",
    "Where:\n",
    "\n",
    "X̄ represents the sample mean.\n",
    "ΣX denotes the sum of all individual data points in the dataset.\n",
    "n is the number of data points in the dataset.\n",
    "Let's go through an example calculation of the sample mean for a dataset:\n",
    "\n",
    "Example Dataset: {10, 15, 20, 25, 30}\n",
    "\n",
    "Step 1: Add up all the values in the dataset.\n",
    "ΣX = 10 + 15 + 20 + 25 + 30 = 100\n",
    "\n",
    "Step 2: Count the number of data points (n).\n",
    "n = 5 (since there are 5 values in the dataset).\n",
    "\n",
    "Step 3: Calculate the sample mean (X̄) using the formula:\n",
    "X̄ = ΣX / n\n",
    "X̄ = 100 / 5\n",
    "X̄ = 20\n",
    "\n",
    "So, the sample mean of the dataset {10, 15, 20, 25, 30} is 20. This means that, on average, the values in this dataset are centered around 20."
   ]
  },
  {
   "cell_type": "code",
   "execution_count": 26,
   "id": "1a80e582",
   "metadata": {},
   "outputs": [],
   "source": [
    "Dataset = (10, 15, 20, 25, 30)"
   ]
  },
  {
   "cell_type": "code",
   "execution_count": 27,
   "id": "83274b51",
   "metadata": {},
   "outputs": [
    {
     "data": {
      "text/plain": [
       "20.0"
      ]
     },
     "execution_count": 27,
     "metadata": {},
     "output_type": "execute_result"
    }
   ],
   "source": [
    "np.mean(Dataset)"
   ]
  },
  {
   "cell_type": "code",
   "execution_count": 28,
   "id": "629e0143",
   "metadata": {},
   "outputs": [
    {
     "name": "stdout",
     "output_type": "stream",
     "text": [
      "Sample Mean (X̄): 20.0\n"
     ]
    }
   ],
   "source": [
    "# Define the dataset as a list\n",
    "dataset = [10, 15, 20, 25, 30]\n",
    "\n",
    "# Calculate the sum of all data points\n",
    "sum_of_values = sum(dataset)\n",
    "\n",
    "# Calculate the number of data points (n)\n",
    "n = len(dataset)\n",
    "\n",
    "# Calculate the sample mean (X̄)\n",
    "sample_mean = sum_of_values / n\n",
    "\n",
    "# Print the result\n",
    "print(\"Sample Mean (X̄):\", sample_mean)"
   ]
  },
  {
   "cell_type": "markdown",
   "id": "f3235294",
   "metadata": {},
   "source": [
    "# Q12. For a normal distribution data what is the relationship between its measure of central tendency?\n",
    "\n"
   ]
  },
  {
   "cell_type": "markdown",
   "id": "0337f256",
   "metadata": {},
   "source": [
    "In a normal distribution, which is also known as a Gaussian distribution or bell curve, there is a specific and well-defined relationship between its measures of central tendency: the mean, median, and mode. This relationship is a key characteristic of normal distributions and can be summarized as follows:\n",
    "\n",
    "Mean (μ): In a normal distribution, the mean (μ) is located at the center of the distribution. It is also the point of symmetry for the normal curve. The mean is equal to the median and the mode in a perfectly normal distribution.\n",
    "\n",
    "Median (Median): The median of a normal distribution is equal to the mean (μ). This means that the point where the normal curve is divided into two equal halves (50% of the data lies below and 50% lies above) is exactly at the mean.\n",
    "\n",
    "Mode (Mode): The mode of a normal distribution is also equal to the mean (μ). In a normal distribution, there is only one mode, and it occurs at the mean. This makes the normal distribution a unimodal distribution.\n",
    "\n",
    "So, in summary, for a perfectly normal distribution:\n",
    "\n",
    "Mean (μ) = Median = Mode\n",
    "\n",
    "This relationship holds true for idealized normal distributions. In practice, real-world data may not perfectly conform to this relationship due to various factors, but normal distributions are often used as approximations for many natural phenomena and statistical processes, making this relationship a valuable characteristic when analyzing data."
   ]
  },
  {
   "cell_type": "markdown",
   "id": "5c703e78",
   "metadata": {},
   "source": [
    "# Q13. How is covariance different from correlation?"
   ]
  },
  {
   "cell_type": "markdown",
   "id": "e6f60200",
   "metadata": {},
   "source": [
    "Covariance and correlation are both measures used in statistics to describe the relationship between two variables, but they have distinct differences in terms of their interpretation and scale:\n",
    "\n",
    "Definition:\n",
    "\n",
    "Covariance measures the degree to which two variables change together. It indicates whether an increase in one variable corresponds to an increase or decrease in another variable.\n",
    "Correlation quantifies the strength and direction of the linear relationship between two variables. It provides a value between -1 and 1, where -1 indicates a perfect negative linear relationship, 1 indicates a perfect positive linear relationship, and 0 indicates no linear relationship.\n",
    "Scale:\n",
    "\n",
    "Covariance is not standardized, which means its value is in the same units as the variables being measured. Therefore, the magnitude of covariance depends on the scales of the variables, making it difficult to compare covariances across different datasets.\n",
    "Correlation is a standardized measure. It provides a value between -1 and 1, making it independent of the units of measurement. This allows for meaningful comparisons between different datasets and variables.\n",
    "Interpretation:\n",
    "\n",
    "Covariance does not provide a clear indication of the strength or direction of the relationship between variables. It can be positive, negative, or close to zero, but the magnitude alone does not convey much information about the strength of the relationship.\n",
    "Correlation, on the other hand, not only indicates the presence and direction of a relationship but also quantifies the strength of that relationship. The absolute value of the correlation coefficient (r) tells you how closely the variables are related, with 1 indicating a perfect linear relationship and 0 indicating no linear relationship.\n",
    "Range:\n",
    "\n",
    "Covariance can take on any real value, including positive, negative, and zero values. There are no set bounds on the range of covariance.\n",
    "Correlation is constrained to the range of -1 to 1. A correlation of -1 indicates a perfect negative linear relationship, 1 indicates a perfect positive linear relationship, and 0 indicates no linear relationship.\n",
    "Standardization:\n",
    "\n",
    "Covariance is not standardized and does not account for the scales of the variables.\n",
    "Correlation is standardized, making it easier to compare the strength and direction of relationships across different datasets."
   ]
  },
  {
   "cell_type": "markdown",
   "id": "0a11cda2",
   "metadata": {},
   "source": [
    "# Q14. How do outliers affect measures of central tendency and dispersion? Provide an example"
   ]
  },
  {
   "cell_type": "markdown",
   "id": "1a672444",
   "metadata": {},
   "source": [
    "Outliers can significantly impact measures of central tendency and dispersion in statistics. Central tendency refers to the measures that describe the center or typical value of a dataset, and dispersion refers to the measures that describe the spread or variability of the data. Outliers are data points that are significantly different from the majority of the data points in a dataset. Here's how outliers affect these measures and an example to illustrate:\n",
    "\n",
    "Measures of Central Tendency:\n",
    "\n",
    "a. Mean: The mean is greatly affected by outliers because it involves summing all data points and dividing by the number of data points. When you have one or more outliers that are exceptionally large or small compared to the rest of the data, they can pull the mean in their direction. For example, if you have a dataset of salaries for a company, and the CEO's salary is much higher than all other employees, the mean salary will be significantly skewed upwards.\n",
    "\n",
    "b. Median: The median is less affected by outliers compared to the mean. It is the middle value when the data is sorted, and it is not influenced by the actual values of the outliers. However, outliers can still affect the perception of central tendency because they might make the dataset appear more skewed when looking at the median along with the mean.\n",
    "\n",
    "c. Mode: The mode represents the most frequent value(s) in the dataset. Outliers usually do not affect the mode, as it depends on the frequencies of values rather than their magnitudes.\n",
    "\n",
    "Measures of Dispersion:\n",
    "\n",
    "a. Range: The range is the difference between the maximum and minimum values in the dataset. Outliers can significantly affect the range by pulling the maximum or minimum values further away from the rest of the data. This can give a distorted view of the data's spread.\n",
    "\n",
    "b. Variance and Standard Deviation: Variance and standard deviation are measures of how spread out the data is. They are affected by outliers because they involve calculating the squared differences between each data point and the mean. Outliers, with their large deviations from the mean, can inflate these measures, indicating higher variability than actually present.\n",
    "\n",
    "c. Interquartile Range (IQR): The IQR is the range between the first quartile (25th percentile) and the third quartile (75th percentile). It is less sensitive to outliers than the range or standard deviation because it is based on quartiles and not on individual data values.\n",
    "\n",
    "Example: Let's say you have a dataset representing the ages of employees in a company:\n",
    "\n",
    "25,30,32,28,35,28,29,30,35,140\n",
    "\n",
    "In this dataset, the age \"140\" is an outlier because it is significantly larger than the other ages.\n",
    "\n",
    "The mean age is heavily influenced by the outlier and would be much higher.\n",
    "The median age is less affected and would be around 30.\n",
    "The mode is not affected and remains the same.\n",
    "The range is greatly affected by the outlier.\n",
    "The standard deviation would be larger due to the influence of the outlier.\n",
    "So, outliers can distort the perception of central tendency and increase measures of dispersion, making it important to identify and potentially deal with them when analyzing data."
   ]
  },
  {
   "cell_type": "code",
   "execution_count": 30,
   "id": "5dcdf86a",
   "metadata": {},
   "outputs": [],
   "source": [
    "data = [25,30,32,28,35,28,29,30,35,140]"
   ]
  },
  {
   "cell_type": "code",
   "execution_count": 32,
   "id": "b6538491",
   "metadata": {},
   "outputs": [
    {
     "name": "stderr",
     "output_type": "stream",
     "text": [
      "C:\\Users\\getan\\AppData\\Local\\Temp\\ipykernel_26908\\3174936905.py:3: FutureWarning: Unlike other reduction functions (e.g. `skew`, `kurtosis`), the default behavior of `mode` typically preserves the axis it acts along. In SciPy 1.11.0, this behavior will change: the default value of `keepdims` will become False, the `axis` over which the statistic is taken will be eliminated, and the value None will no longer be accepted. Set `keepdims` to True or False to avoid this warning.\n",
      "  Mode = stats.mode(data)\n"
     ]
    }
   ],
   "source": [
    "Mean = np.mean(data)\n",
    "Median = np.median(data)\n",
    "Mode = stats.mode(data)\n",
    "Std = np.std(data)\n",
    "Variance = np.var(data)"
   ]
  },
  {
   "cell_type": "code",
   "execution_count": 34,
   "id": "81359978",
   "metadata": {},
   "outputs": [
    {
     "name": "stdout",
     "output_type": "stream",
     "text": [
      " \n",
      " Mean : 41.2 \n",
      " Median : 30.0 \n",
      " Mode: ModeResult(mode=array([28]), count=array([2])) \n",
      " Standard Deviation: 33.065994616826515 \n",
      " Variance: 1093.36\n"
     ]
    }
   ],
   "source": [
    "print(f\" \\n Mean : {Mean} \\n Median : { Median} \\n Mode: {Mode} \\n Standard Deviation: {Std} \\n Variance: {Variance}\")"
   ]
  },
  {
   "cell_type": "code",
   "execution_count": null,
   "id": "f9ff4369",
   "metadata": {},
   "outputs": [],
   "source": []
  }
 ],
 "metadata": {
  "kernelspec": {
   "display_name": "Python 3 (ipykernel)",
   "language": "python",
   "name": "python3"
  },
  "language_info": {
   "codemirror_mode": {
    "name": "ipython",
    "version": 3
   },
   "file_extension": ".py",
   "mimetype": "text/x-python",
   "name": "python",
   "nbconvert_exporter": "python",
   "pygments_lexer": "ipython3",
   "version": "3.11.4"
  }
 },
 "nbformat": 4,
 "nbformat_minor": 5
}
